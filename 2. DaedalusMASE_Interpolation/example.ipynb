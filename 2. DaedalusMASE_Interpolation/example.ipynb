{
 "cells": [
  {
   "cell_type": "code",
   "execution_count": null,
   "metadata": {},
   "outputs": [
    {
     "ename": "",
     "evalue": "",
     "output_type": "error",
     "traceback": [
      "\u001b[1;31mRunning cells with 'Python 3.9.13 64-bit (windows store)' requires ipykernel package.\n",
      "Run the following command to install 'ipykernel' into the Python environment. \n",
      "Command: 'c:/Users/panos_lptp/AppData/Local/Microsoft/WindowsApps/python3.9.exe -m pip install ipykernel -U --user --force-reinstall'"
     ]
    }
   ],
   "source": [
    "import InterpolationMASE as INT\n"
   ]
  },
  {
   "cell_type": "code",
   "execution_count": null,
   "metadata": {},
   "outputs": [],
   "source": [
    "ModelName=\"tiegcm2.0_res2.5_3years_sech_016.nc\"\n",
    "OrbitFile=\"orbit.nc\"\n",
    "INT.RunInterpolator(ModelName,OrbitFile,TGvar=\"TN\",Interpolation=\"Trilinear\",Save=True,outfileName=\"InterResults.nc\")"
   ]
  }
 ],
 "metadata": {
  "kernelspec": {
   "display_name": "Python 3.9.13 64-bit (windows store)",
   "language": "python",
   "name": "python3"
  },
  "language_info": {
   "name": "python",
   "version": "3.9.13"
  },
  "orig_nbformat": 4,
  "vscode": {
   "interpreter": {
    "hash": "704440be892ee1c93f071dd6770989ce48796e3bbfb497a4b2c1a075f00f55c6"
   }
  }
 },
 "nbformat": 4,
 "nbformat_minor": 2
}
