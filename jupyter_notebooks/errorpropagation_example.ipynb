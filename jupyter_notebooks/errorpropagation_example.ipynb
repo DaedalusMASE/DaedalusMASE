{
 "cells": [
  {
   "cell_type": "code",
   "execution_count": null,
   "metadata": {},
   "outputs": [],
   "source": [
    "import sys\n",
    "sys.path.insert(0,\"../daedalusmase_errorpropagation\")\n",
    "import factors\n",
    "import productderivation as pD\n",
    "import supportfunctions\n",
    "import Plots\n",
    "import errorprogation as EP"
   ]
  },
  {
   "cell_type": "code",
   "execution_count": null,
   "metadata": {},
   "outputs": [],
   "source": [
    "filename=\"../daedalusmase_errorpropagation/tiegcm2.0_res2.5_3years_sech_016.nc\"\n",
    "timer=5\n",
    "lat_value=0 #63.75 deg\n",
    "lon_value=49 #-57.5 deg\n",
    "pD.models_input(filename, timer, lat_value, lon_value)"
   ]
  },
  {
   "cell_type": "code",
   "execution_count": null,
   "metadata": {},
   "outputs": [],
   "source": [
    "pD.products(lat_value, lon_value)"
   ]
  },
  {
   "cell_type": "code",
   "execution_count": null,
   "metadata": {},
   "outputs": [],
   "source": [
    "# factors.pedersen_con[0,49,:-1]\n",
    "min_alt=100\n",
    "max_alt=400\n",
    "Plots.plot_conductivities(lat_value, lon_value, min_alt, max_alt)"
   ]
  },
  {
   "cell_type": "code",
   "execution_count": null,
   "metadata": {},
   "outputs": [],
   "source": [
    "error_flag=True\n",
    "EP.error(error_flag=error_flag, lat_value=lat_value, lon_value=lon_value)"
   ]
  },
  {
   "cell_type": "code",
   "execution_count": null,
   "metadata": {},
   "outputs": [],
   "source": [
    "Plots.plot_conductivities_error(lat_value, lon_value, min_alt, max_alt)"
   ]
  }
 ],
 "metadata": {
  "kernelspec": {
   "display_name": "Python 3.6.9 64-bit",
   "language": "python",
   "name": "python3"
  },
  "language_info": {
   "codemirror_mode": {
    "name": "ipython",
    "version": 3
   },
   "file_extension": ".py",
   "mimetype": "text/x-python",
   "name": "python",
   "nbconvert_exporter": "python",
   "pygments_lexer": "ipython3",
   "version": "3.6.9"
  },
  "orig_nbformat": 4,
  "vscode": {
   "interpreter": {
    "hash": "31f2aee4e71d21fbe5cf8b01ff0e069b9275f58929596ceb00d14d90e3e16cd6"
   }
  }
 },
 "nbformat": 4,
 "nbformat_minor": 2
}
