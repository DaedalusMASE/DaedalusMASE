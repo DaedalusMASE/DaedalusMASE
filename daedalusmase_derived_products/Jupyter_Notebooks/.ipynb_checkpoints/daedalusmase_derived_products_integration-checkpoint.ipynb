{
 "cells": [
  {
   "cell_type": "markdown",
   "id": "1297963c",
   "metadata": {},
   "source": [
    "## Import required packages"
   ]
  },
  {
   "cell_type": "code",
   "execution_count": 1,
   "id": "e6ff5d9c",
   "metadata": {},
   "outputs": [],
   "source": [
    "import numpy as np\n",
    "from netCDF4 import Dataset\n",
    "import sys\n",
    "from tqdm import tqdm\n",
    "from ipywidgets import*\n",
    "import ipywidgets as widgets\n",
    "import glob\n",
    "import warnings"
   ]
  },
  {
   "cell_type": "markdown",
   "id": "e9436fb9",
   "metadata": {},
   "source": [
    "## Import daedalusmase packages\n"
   ]
  },
  {
   "cell_type": "code",
   "execution_count": 2,
   "id": "d1b43d41",
   "metadata": {},
   "outputs": [
    {
     "name": "stdout",
     "output_type": "stream",
     "text": [
      "/home/tourgaidis/Επιφάνεια εργασίας/GitHub/DaedalusMASE/daedalusmase_derived_products\n"
     ]
    }
   ],
   "source": [
    "#Define daedalusmase_derived_products package location\n",
    "fpath = os.path.abspath(\"../\")\n",
    "print(fpath)\n",
    "#add src path to python path\n",
    "sys.path.append(fpath)\n",
    "\n",
    "#Define data path\n",
    "datapath='Results/'\n",
    "\n",
    "from daedalusmase_derived_products.mod_height_integration import integration\n",
    "from daedalusmase_derived_products.mod_height_integration import integration_limits"
   ]
  },
  {
   "cell_type": "markdown",
   "id": "d7f29416",
   "metadata": {},
   "source": [
    "## GUI"
   ]
  },
  {
   "cell_type": "code",
   "execution_count": 3,
   "id": "e8b7fee7",
   "metadata": {
    "scrolled": false
   },
   "outputs": [
    {
     "data": {
      "application/vnd.jupyter.widget-view+json": {
       "model_id": "3427409e97b84b5abeaecbd0d44aa347",
       "version_major": 2,
       "version_minor": 0
      },
      "text/plain": [
       "VBox(children=(Tab(children=(VBox(children=(Dropdown(description='TIE-GCM files: ', layout=Layout(width='850px…"
      ]
     },
     "metadata": {},
     "output_type": "display_data"
    },
    {
     "name": "stdout",
     "output_type": "stream",
     "text": [
      "checking integration limits...\n",
      "minimum latitude: -88.75 deg\n",
      "maximum latitude: 61.25 deg\n",
      "minimum longitude: -180.0 deg\n",
      "maximum longitude: 172.5 deg\n",
      "minimum altitude: 100.0 km\n",
      "maximum altitude: 365.0 km\n",
      "\n",
      "If you agree with the limits hit the Integration button, if not change the input and recalcualte the grid...\n",
      "Calculation started...\n",
      "Calculation executed!\n",
      "The total heating in the region is:\n",
      "108.98096634508119 GW\n"
     ]
    }
   ],
   "source": [
    "warnings.simplefilter('ignore')\n",
    "#window creation            \n",
    "style = {'description_width': '150px'}\n",
    "layout1stcolumn = {'width': '300px'}\n",
    "layout2ndcolumn= {'width': '250px'}\n",
    "layout3rdcolumn= {'width': '100px'}\n",
    "button_layout={'width': '150px'}\n",
    "style1 = {'description_width':'150px'}\n",
    "layout1 = {'width':'850px'}\n",
    "style2 = {'description_width':'95px'}\n",
    "layout2 = {'width':'160px'}\n",
    "layout3 = {'width':'350px'}\n",
    "style3 = {'description_width':'60px'}\n",
    "layout4 = {'width':'215px'}\n",
    "\n",
    "tiegcm_file=widgets.Dropdown(options=sorted(glob.glob(datapath +\"*.nc\")), description='TIE-GCM files: ', style=style1, layout=layout1)\n",
    "\n",
    "timer_value= widgets.Dropdown( value=0, options=range(0,24),  description='Timesteps:', style=style, layout=layout1stcolumn)\n",
    "\n",
    "minlat_value   = widgets.BoundedIntText(\n",
    "    value=0,\n",
    "    min=0,\n",
    "    max=71,\n",
    "    step=1,\n",
    "    description='Min latitude [index]:',\n",
    "    disabled=False, style=style1, layout=layout1stcolumn\n",
    ")\n",
    "maxlat_value   = widgets.BoundedIntText(\n",
    "    value=60,\n",
    "    min=0,\n",
    "    max=71,\n",
    "    step=1,\n",
    "    description='Max latitude [index]:',\n",
    "    disabled=False, style=style1, layout=layout1stcolumn\n",
    ")\n",
    "minlon_value   = widgets.BoundedIntText(\n",
    "    value=0,\n",
    "    min=0,\n",
    "    max=141,\n",
    "    step=1,\n",
    "    description='Min longitude [index]:',\n",
    "    disabled=False, style=style1, layout=layout1stcolumn\n",
    ")\n",
    "maxlon_value   = widgets.BoundedIntText(\n",
    "    value=141,\n",
    "    min=0,\n",
    "    max=141,\n",
    "    step=1,\n",
    "    description='Max longitude [index]:',\n",
    "    disabled=False, style=style1, layout=layout1stcolumn\n",
    ")\n",
    "\n",
    "minalt_value   = widgets.BoundedIntText(\n",
    "    value=0,\n",
    "    min=0,\n",
    "    max=79,\n",
    "    step=1,\n",
    "    description='Min altitude [index]:',\n",
    "    disabled=False, style=style1, layout=layout1stcolumn\n",
    ")\n",
    "maxalt_value   = widgets.BoundedIntText(\n",
    "    value=53,\n",
    "    min=0,\n",
    "    max=79,\n",
    "    step=1,\n",
    "    description='Max altitude [index]:',\n",
    "    disabled=False, style=style1, layout=layout1stcolumn\n",
    ")\n",
    "\n",
    "output_path=widgets.Text(\n",
    "    value='Results/',\n",
    "    placeholder='Enter output path',\n",
    "    description='Output:',\n",
    "    disabled=False,\n",
    "    style=style1, layout=layout1\n",
    ")\n",
    "param_value =widgets.Dropdown(\n",
    "            options=['QAMIE','QWIND','QJH_TOT'],\n",
    "            value='QAMIE',\n",
    "            description='Parameter:',\n",
    "            disabled=False,\n",
    "            style=style, \n",
    "            layout=layout1stcolumn\n",
    "            )\n",
    "def Exec_Btn_Clicked2( b ):\n",
    "    print( \"checking integration limits...\" )\n",
    "    integration_limits(tiegcm_file.value,timer_value.value,minlat_value.value,maxlat_value.value,minlon_value.value,maxlon_value.value,minalt_value.value,maxalt_value.value)\n",
    "\n",
    "def Exec_Btn_Clicked( b ):\n",
    "    print( \"Calculation started...\" )\n",
    "    integration(tiegcm_file.value,timer_value.value,param_value.value,minlat_value.value,maxlat_value.value,minlon_value.value,maxlon_value.value,minalt_value.value,maxalt_value.value)\n",
    "     \n",
    "def createGUI():\n",
    "    ## the top level visual elements\n",
    "    MainPanel = widgets.VBox() \n",
    "    MainTab = widgets.Tab() \n",
    "    VerticalPanel = widgets.VBox()\n",
    "    \n",
    "    MainTab.children = [ VerticalPanel]\n",
    "    MainTab.set_title(0, 'Integration')\n",
    "    MainPanel.children = [MainTab ]   \n",
    "    \n",
    "\n",
    "    PlotVerticalPanel = widgets.VBox()\n",
    "    PlotVerticalPanel.children = [timer_value,widgets.VBox([minalt_value,maxalt_value,minlat_value,maxlat_value,minlon_value,maxlon_value,param_value])]\n",
    "\n",
    "    Exec_Btn2 = widgets.Button (description='Integration limits',tooltip=\"Click here check integration limits\",)\n",
    "    Exec_Btn2.style.button_color = 'Green'\n",
    "    Exec_Btn2.on_click( Exec_Btn_Clicked2 )\n",
    "    \n",
    "    Exec_Btn = widgets.Button (description='Integration',tooltip=\"Click here to intrgrate the parameter\",)\n",
    "    Exec_Btn.style.button_color = 'MediumTurquoise'\n",
    "    Exec_Btn.on_click( Exec_Btn_Clicked )\n",
    "    VerticalPanel.children = [tiegcm_file, PlotVerticalPanel,Exec_Btn2, Exec_Btn ]\n",
    "\n",
    "\n",
    "    return MainPanel\n",
    "display( createGUI() )\n"
   ]
  },
  {
   "cell_type": "code",
   "execution_count": null,
   "id": "6e6174a7",
   "metadata": {},
   "outputs": [],
   "source": []
  },
  {
   "cell_type": "code",
   "execution_count": null,
   "id": "7328a54e",
   "metadata": {},
   "outputs": [],
   "source": []
  }
 ],
 "metadata": {
  "kernelspec": {
   "display_name": "Python 3 (ipykernel)",
   "language": "python",
   "name": "python3"
  },
  "language_info": {
   "codemirror_mode": {
    "name": "ipython",
    "version": 3
   },
   "file_extension": ".py",
   "mimetype": "text/x-python",
   "name": "python",
   "nbconvert_exporter": "python",
   "pygments_lexer": "ipython3",
   "version": "3.6.9"
  }
 },
 "nbformat": 4,
 "nbformat_minor": 5
}
