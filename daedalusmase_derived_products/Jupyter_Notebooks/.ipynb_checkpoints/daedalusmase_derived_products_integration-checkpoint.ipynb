{
 "cells": [
  {
   "cell_type": "markdown",
   "id": "402b46b3",
   "metadata": {},
   "source": [
    "## Import required packages"
   ]
  },
  {
   "cell_type": "code",
   "execution_count": 1,
   "id": "1ed91e57",
   "metadata": {},
   "outputs": [],
   "source": [
    "import numpy as np\n",
    "from netCDF4 import Dataset\n",
    "import sys\n",
    "from tqdm import tqdm\n",
    "from ipywidgets import*\n",
    "import ipywidgets as widgets\n",
    "import glob\n",
    "import warnings"
   ]
  },
  {
   "cell_type": "markdown",
   "id": "234bf144",
   "metadata": {},
   "source": [
    "## Import daedalusmase packages\n"
   ]
  },
  {
   "cell_type": "code",
   "execution_count": 2,
   "id": "535aa595",
   "metadata": {},
   "outputs": [
    {
     "name": "stdout",
     "output_type": "stream",
     "text": [
      "/home/tourgaidis/Επιφάνεια εργασίας/Daedalus_MASE_git/DaedalusMASE/daedalusmase_derived_products\n"
     ]
    }
   ],
   "source": [
    "#Define daedalusmase_derived_products package location\n",
    "fpath = os.path.abspath(\"../\")\n",
    "print(fpath)\n",
    "#add src path to python path\n",
    "sys.path.append(fpath)\n",
    "\n",
    "#Define data path\n",
    "datapath='../../Sample_Data/'\n",
    "\n",
    "from daedalusmase_derived_products.mod_height_integration import regrid\n"
   ]
  },
  {
   "cell_type": "markdown",
   "id": "edc3b93d",
   "metadata": {},
   "source": [
    "## Run ReGrid"
   ]
  },
  {
   "cell_type": "code",
   "execution_count": 3,
   "id": "5b97539d",
   "metadata": {},
   "outputs": [],
   "source": [
    "# #Calculation of products for map plotting\n",
    "# def run(tiegcm_file,lat_value,lon_value,timer_value):\n",
    "\n",
    "                    "
   ]
  },
  {
   "cell_type": "markdown",
   "id": "fb4e8e5d",
   "metadata": {},
   "source": [
    "## GUI"
   ]
  },
  {
   "cell_type": "code",
   "execution_count": 4,
   "id": "ee3e40c0",
   "metadata": {
    "scrolled": false
   },
   "outputs": [
    {
     "data": {
      "application/vnd.jupyter.widget-view+json": {
       "model_id": "248e377b93ad4d47b5fe47ead3ac1acb",
       "version_major": 2,
       "version_minor": 0
      },
      "text/plain": [
       "VBox(children=(Tab(children=(VBox(children=(Dropdown(description='TIE-GCM files: ', layout=Layout(width='850px…"
      ]
     },
     "metadata": {},
     "output_type": "display_data"
    },
    {
     "name": "stderr",
     "output_type": "stream",
     "text": [
      " 50%|█████     | 1/2 [00:01<00:01,  1.09s/it]"
     ]
    },
    {
     "name": "stdout",
     "output_type": "stream",
     "text": [
      "Calculation started...\n",
      "Selected timesteps: [0]\n",
      "Selected parameters: ['ELECDEN']\n",
      "Dimensions are time x alt x loat x lon 1 57 72 144\n",
      "Dimensions Of Regridded: time x alt x loat x lon 1 2 72 144\n",
      "Timesteps to calculate--> [0]\n"
     ]
    },
    {
     "name": "stderr",
     "output_type": "stream",
     "text": [
      "100%|██████████| 2/2 [00:02<00:00,  1.18s/it]\n"
     ]
    }
   ],
   "source": [
    "warnings.simplefilter('ignore')\n",
    "#window creation            \n",
    "style = {'description_width': '150px'}\n",
    "layout1stcolumn = {'width': '300px'}\n",
    "layout2ndcolumn= {'width': '250px'}\n",
    "layout3rdcolumn= {'width': '100px'}\n",
    "button_layout={'width': '150px'}\n",
    "style1 = {'description_width':'150px'}\n",
    "layout1 = {'width':'850px'}\n",
    "style2 = {'description_width':'95px'}\n",
    "layout2 = {'width':'160px'}\n",
    "layout3 = {'width':'350px'}\n",
    "style3 = {'description_width':'60px'}\n",
    "layout4 = {'width':'215px'}\n",
    "\n",
    "tiegcm_file=widgets.Dropdown(options=sorted(glob.glob(datapath +\"*.nc\")), description='TIE-GCM files: ', style=style1, layout=layout1)\n",
    "\n",
    "timer_value= widgets.Dropdown( value=0, options=range(0,24),  description='Timesteps:', style=style, layout=layout1stcolumn)\n",
    "\n",
    "minalt_value   = widgets.BoundedIntText(\n",
    "    value=100,\n",
    "    min=100,\n",
    "    max=500,\n",
    "    step=1,\n",
    "    description='Min Alt [km]:',\n",
    "    disabled=False, style=style1, layout=layout1stcolumn\n",
    ")\n",
    "maxalt_value   = widgets.BoundedIntText(\n",
    "    value=500,\n",
    "    min=100,\n",
    "    max=500,\n",
    "    step=1,\n",
    "    description='Max Alt [km]:',\n",
    "    disabled=False, style=style1, layout=layout1stcolumn\n",
    ")\n",
    "dalt_value   = widgets.BoundedIntText(\n",
    "    value=5,\n",
    "    min=1,\n",
    "    max=10,\n",
    "    step=1,\n",
    "    description='Dalt [km]:',\n",
    "    disabled=False, style=style1, layout=layout1stcolumn\n",
    ")\n",
    "output_path=widgets.Text(\n",
    "    value='Results/',\n",
    "    placeholder='Enter output path',\n",
    "    description='Output:',\n",
    "    disabled=False,\n",
    "    style=style1, layout=layout1\n",
    ")\n",
    "param_value = widgets.SelectMultiple(\n",
    "    options=['AR', 'DEN','EEX','EEY','EEZ','ELECDEN','HE','N2_CM3'\n",
    "            ,'O2_CM3','O_CM3','NO','NOP_LAM','NPLUS','O1','O2','p0'\n",
    "            ,'POTEN','TE','TI','TN','Ui_lev','Vi_lev','Wi_lev','UN'\n",
    "            ,'VN','WN_lev'],\n",
    "    value=['ELECDEN'],\n",
    "    description='Parameters:',\n",
    "    disabled=False,\n",
    "    style=style1, layout=layout1stcolumn\n",
    ")\n",
    "\n",
    "\n",
    "def Exec_Btn_Clicked( b ):\n",
    "    print( \"Calculation started...\" )\n",
    "    times=np.arange(0,timer_value.value+1,1)\n",
    "    timesteps=[]\n",
    "    for i in range (0,timer_value.value+1):\n",
    "        timesteps.append(times[i])\n",
    "    print('Selected timesteps:',timesteps)\n",
    "    params=[]\n",
    "    for j in range(0,len(param_value.value)):\n",
    "        params.append(param_value.value[j])\n",
    "    print('Selected parameters:',params)\n",
    "    regrid(minalt_value.value,maxalt_value.value,dalt_value.value,tiegcm_file.value,timesteps,params,output_path.value)\n",
    "\n",
    "\n",
    "     \n",
    "def createGUI():\n",
    "    ## the top level visual elements\n",
    "    MainPanel = widgets.VBox() \n",
    "    MainTab = widgets.Tab() \n",
    "    VerticalPanel = widgets.VBox()\n",
    "    \n",
    "    MainTab.children = [ VerticalPanel]\n",
    "    MainTab.set_title(0, 'Vertical Profiles')\n",
    "    MainPanel.children = [MainTab ]   \n",
    "    \n",
    "\n",
    "    PlotVerticalPanel = widgets.VBox()\n",
    "    PlotVerticalPanel.children = [timer_value,widgets.VBox([minalt_value,maxalt_value,dalt_value,param_value,output_path])]\n",
    "\n",
    "    \n",
    "    Exec_Btn = widgets.Button (description='Calculate Products',tooltip=\"Click here to re-grid the tiegcm output\",)\n",
    "    Exec_Btn.style.button_color = 'MediumTurquoise'\n",
    "    Exec_Btn.on_click( Exec_Btn_Clicked )\n",
    "    VerticalPanel.children = [tiegcm_file, PlotVerticalPanel, Exec_Btn ]\n",
    "\n",
    "\n",
    "    return MainPanel\n",
    "display( createGUI() )\n"
   ]
  },
  {
   "cell_type": "code",
   "execution_count": null,
   "id": "208bc2bb",
   "metadata": {},
   "outputs": [],
   "source": []
  },
  {
   "cell_type": "code",
   "execution_count": null,
   "id": "d22b4bc5",
   "metadata": {},
   "outputs": [],
   "source": []
  }
 ],
 "metadata": {
  "kernelspec": {
   "display_name": "Python 3 (ipykernel)",
   "language": "python",
   "name": "python3"
  },
  "language_info": {
   "codemirror_mode": {
    "name": "ipython",
    "version": 3
   },
   "file_extension": ".py",
   "mimetype": "text/x-python",
   "name": "python",
   "nbconvert_exporter": "python",
   "pygments_lexer": "ipython3",
   "version": "3.6.9"
  }
 },
 "nbformat": 4,
 "nbformat_minor": 5
}
